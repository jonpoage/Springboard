{
 "cells": [
  {
   "cell_type": "markdown",
   "metadata": {},
   "source": [
    "# Examining Racial Discrimination in the US Job Market\n",
    "\n",
    "### Background\n",
    "Racial discrimination continues to be pervasive in cultures throughout the world. Researchers examined the level of racial discrimination in the United States labor market by randomly assigning identical résumés to black-sounding or white-sounding names and observing the impact on requests for interviews from employers.\n",
    "\n",
    "### Data\n",
    "In the dataset provided, each row represents a resume. The 'race' column has two values, 'b' and 'w', indicating black-sounding and white-sounding. The column 'call' has two values, 1 and 0, indicating whether the resume received a call from employers or not.\n",
    "\n",
    "Note that the 'b' and 'w' values in race are assigned randomly to the resumes when presented to the employer."
   ]
  },
  {
   "cell_type": "markdown",
   "metadata": {},
   "source": [
    "### Exercises\n",
    "You will perform a statistical analysis to establish whether race has a significant impact on the rate of callbacks for resumes.\n",
    "\n",
    "Answer the following questions **in this notebook below and submit to your Github account**. \n",
    "\n",
    "   1. What test is appropriate for this problem? Does CLT apply?\n",
    "   2. What are the null and alternate hypotheses?\n",
    "   3. Compute margin of error, confidence interval, and p-value. Try using both the bootstrapping and the frequentist statistical approaches.\n",
    "   4. Write a story describing the statistical significance in the context or the original problem.\n",
    "   5. Does your analysis mean that race/name is the most important factor in callback success? Why or why not? If not, how would you amend your analysis?\n",
    "\n",
    "You can include written notes in notebook cells using Markdown: \n",
    "   - In the control panel at the top, choose Cell > Cell Type > Markdown\n",
    "   - Markdown syntax: http://nestacms.com/docs/creating-content/markdown-cheat-sheet\n",
    "\n",
    "#### Resources\n",
    "+ Experiment information and data source: http://www.povertyactionlab.org/evaluation/discrimination-job-market-united-states\n",
    "+ Scipy statistical methods: http://docs.scipy.org/doc/scipy/reference/stats.html \n",
    "+ Markdown syntax: http://nestacms.com/docs/creating-content/markdown-cheat-sheet\n",
    "+ Formulas for the Bernoulli distribution: https://en.wikipedia.org/wiki/Bernoulli_distribution"
   ]
  },
  {
   "cell_type": "code",
   "execution_count": 1,
   "metadata": {
    "collapsed": true
   },
   "outputs": [],
   "source": [
    "import pandas as pd\n",
    "import numpy as np\n",
    "from scipy import stats"
   ]
  },
  {
   "cell_type": "code",
   "execution_count": 2,
   "metadata": {
    "collapsed": true
   },
   "outputs": [],
   "source": [
    "data = pd.io.stata.read_stata('data/us_job_market_discrimination.dta')"
   ]
  },
  {
   "cell_type": "code",
   "execution_count": 3,
   "metadata": {},
   "outputs": [
    {
     "data": {
      "text/plain": [
       "235.0"
      ]
     },
     "execution_count": 3,
     "metadata": {},
     "output_type": "execute_result"
    }
   ],
   "source": [
    "# number of callbacks for black-sounding names\n",
    "sum(data[data.race=='w'].call)"
   ]
  },
  {
   "cell_type": "code",
   "execution_count": 4,
   "metadata": {},
   "outputs": [
    {
     "data": {
      "text/html": [
       "<div>\n",
       "<table border=\"1\" class=\"dataframe\">\n",
       "  <thead>\n",
       "    <tr style=\"text-align: right;\">\n",
       "      <th></th>\n",
       "      <th>id</th>\n",
       "      <th>ad</th>\n",
       "      <th>education</th>\n",
       "      <th>ofjobs</th>\n",
       "      <th>yearsexp</th>\n",
       "      <th>honors</th>\n",
       "      <th>volunteer</th>\n",
       "      <th>military</th>\n",
       "      <th>empholes</th>\n",
       "      <th>occupspecific</th>\n",
       "      <th>...</th>\n",
       "      <th>compreq</th>\n",
       "      <th>orgreq</th>\n",
       "      <th>manuf</th>\n",
       "      <th>transcom</th>\n",
       "      <th>bankreal</th>\n",
       "      <th>trade</th>\n",
       "      <th>busservice</th>\n",
       "      <th>othservice</th>\n",
       "      <th>missind</th>\n",
       "      <th>ownership</th>\n",
       "    </tr>\n",
       "  </thead>\n",
       "  <tbody>\n",
       "    <tr>\n",
       "      <th>0</th>\n",
       "      <td>b</td>\n",
       "      <td>1</td>\n",
       "      <td>4</td>\n",
       "      <td>2</td>\n",
       "      <td>6</td>\n",
       "      <td>0</td>\n",
       "      <td>0</td>\n",
       "      <td>0</td>\n",
       "      <td>1</td>\n",
       "      <td>17</td>\n",
       "      <td>...</td>\n",
       "      <td>1.0</td>\n",
       "      <td>0.0</td>\n",
       "      <td>1.0</td>\n",
       "      <td>0.0</td>\n",
       "      <td>0.0</td>\n",
       "      <td>0.0</td>\n",
       "      <td>0.0</td>\n",
       "      <td>0.0</td>\n",
       "      <td>0.0</td>\n",
       "      <td></td>\n",
       "    </tr>\n",
       "    <tr>\n",
       "      <th>1</th>\n",
       "      <td>b</td>\n",
       "      <td>1</td>\n",
       "      <td>3</td>\n",
       "      <td>3</td>\n",
       "      <td>6</td>\n",
       "      <td>0</td>\n",
       "      <td>1</td>\n",
       "      <td>1</td>\n",
       "      <td>0</td>\n",
       "      <td>316</td>\n",
       "      <td>...</td>\n",
       "      <td>1.0</td>\n",
       "      <td>0.0</td>\n",
       "      <td>1.0</td>\n",
       "      <td>0.0</td>\n",
       "      <td>0.0</td>\n",
       "      <td>0.0</td>\n",
       "      <td>0.0</td>\n",
       "      <td>0.0</td>\n",
       "      <td>0.0</td>\n",
       "      <td></td>\n",
       "    </tr>\n",
       "    <tr>\n",
       "      <th>2</th>\n",
       "      <td>b</td>\n",
       "      <td>1</td>\n",
       "      <td>4</td>\n",
       "      <td>1</td>\n",
       "      <td>6</td>\n",
       "      <td>0</td>\n",
       "      <td>0</td>\n",
       "      <td>0</td>\n",
       "      <td>0</td>\n",
       "      <td>19</td>\n",
       "      <td>...</td>\n",
       "      <td>1.0</td>\n",
       "      <td>0.0</td>\n",
       "      <td>1.0</td>\n",
       "      <td>0.0</td>\n",
       "      <td>0.0</td>\n",
       "      <td>0.0</td>\n",
       "      <td>0.0</td>\n",
       "      <td>0.0</td>\n",
       "      <td>0.0</td>\n",
       "      <td></td>\n",
       "    </tr>\n",
       "    <tr>\n",
       "      <th>3</th>\n",
       "      <td>b</td>\n",
       "      <td>1</td>\n",
       "      <td>3</td>\n",
       "      <td>4</td>\n",
       "      <td>6</td>\n",
       "      <td>0</td>\n",
       "      <td>1</td>\n",
       "      <td>0</td>\n",
       "      <td>1</td>\n",
       "      <td>313</td>\n",
       "      <td>...</td>\n",
       "      <td>1.0</td>\n",
       "      <td>0.0</td>\n",
       "      <td>1.0</td>\n",
       "      <td>0.0</td>\n",
       "      <td>0.0</td>\n",
       "      <td>0.0</td>\n",
       "      <td>0.0</td>\n",
       "      <td>0.0</td>\n",
       "      <td>0.0</td>\n",
       "      <td></td>\n",
       "    </tr>\n",
       "    <tr>\n",
       "      <th>4</th>\n",
       "      <td>b</td>\n",
       "      <td>1</td>\n",
       "      <td>3</td>\n",
       "      <td>3</td>\n",
       "      <td>22</td>\n",
       "      <td>0</td>\n",
       "      <td>0</td>\n",
       "      <td>0</td>\n",
       "      <td>0</td>\n",
       "      <td>313</td>\n",
       "      <td>...</td>\n",
       "      <td>1.0</td>\n",
       "      <td>1.0</td>\n",
       "      <td>0.0</td>\n",
       "      <td>0.0</td>\n",
       "      <td>0.0</td>\n",
       "      <td>0.0</td>\n",
       "      <td>0.0</td>\n",
       "      <td>1.0</td>\n",
       "      <td>0.0</td>\n",
       "      <td>Nonprofit</td>\n",
       "    </tr>\n",
       "  </tbody>\n",
       "</table>\n",
       "<p>5 rows × 65 columns</p>\n",
       "</div>"
      ],
      "text/plain": [
       "  id ad  education  ofjobs  yearsexp  honors  volunteer  military  empholes  \\\n",
       "0  b  1          4       2         6       0          0         0         1   \n",
       "1  b  1          3       3         6       0          1         1         0   \n",
       "2  b  1          4       1         6       0          0         0         0   \n",
       "3  b  1          3       4         6       0          1         0         1   \n",
       "4  b  1          3       3        22       0          0         0         0   \n",
       "\n",
       "   occupspecific    ...      compreq  orgreq  manuf  transcom  bankreal trade  \\\n",
       "0             17    ...          1.0     0.0    1.0       0.0       0.0   0.0   \n",
       "1            316    ...          1.0     0.0    1.0       0.0       0.0   0.0   \n",
       "2             19    ...          1.0     0.0    1.0       0.0       0.0   0.0   \n",
       "3            313    ...          1.0     0.0    1.0       0.0       0.0   0.0   \n",
       "4            313    ...          1.0     1.0    0.0       0.0       0.0   0.0   \n",
       "\n",
       "  busservice othservice  missind  ownership  \n",
       "0        0.0        0.0      0.0             \n",
       "1        0.0        0.0      0.0             \n",
       "2        0.0        0.0      0.0             \n",
       "3        0.0        0.0      0.0             \n",
       "4        0.0        1.0      0.0  Nonprofit  \n",
       "\n",
       "[5 rows x 65 columns]"
      ]
     },
     "execution_count": 4,
     "metadata": {},
     "output_type": "execute_result"
    }
   ],
   "source": [
    "data.head()"
   ]
  },
  {
   "cell_type": "markdown",
   "metadata": {
    "collapsed": true
   },
   "source": [
    "<div class=\"span5 alert alert-success\">\n",
    "<p>\n",
    "A two sample $z$-test is most appropriate for this problem.  The hypthesis test will determine whether there is a significant difference in the true proporition of callbacks between white sounding names and black sounding names.  \n",
    "<br>\n",
    "We assume that the Central Limit Theorem (CLT) does apply, based on the following conditions:\n",
    "\n",
    "<ol>\n",
    "  <li> <b>Independence</b> - We assume the callbacks are independent, and that the decision about whether to call back for any one resume does not affect the decision to call back for any other resume.</li>\n",
    "  <li> <b>Randomization</b> - We assume the data is randomly sampled.  The names are randomly assigned to the resumes.  The experimental summary shows that the experimental design controls for many factors, such as quality of resume and type of employer. </li>\n",
    "  <li> <b>Sample Size</b> - There are 4870 data points total, with 2435 data points each for black and white sounding names.  The sample size is large enough that the expected numbers of failures and successes are sufficiently large $(\\ge 10)$ for each group, assuming the null hypothesis below. </li>\n",
    "</ol>\n",
    "\n",
    "A one-tailed test is performed, in order to test whether the proportion of callbacks for white sounding names is significantly higher than the proportion of callbacks for black sounding names.  The significance value of $\\alpha=0.01$ is chosen in order to reduce the likelihood of a Type I error.  \n",
    "<br>\n",
    "The null and alternative hypotheses are:\n",
    "\n",
    "<img src=\"http://latex.codecogs.com/svg.latex?H_0: p_w = p_b\" border=\"0\"/>\n",
    "<img src=\"http://latex.codecogs.com/svg.latex?H_1: p_w > p_b\" border=\"0\"/>\n",
    "\n",
    "<br>\n",
    "where $p_w$ and $p_b$ are the true population callback proportions for white sounding names and black sounding names, respectively.\n",
    "</p>\n",
    "</div>"
   ]
  },
  {
   "cell_type": "code",
   "execution_count": 5,
   "metadata": {
    "collapsed": true
   },
   "outputs": [],
   "source": [
    "w = data[data.race=='w']\n",
    "b = data[data.race=='b']"
   ]
  },
  {
   "cell_type": "code",
   "execution_count": 6,
   "metadata": {},
   "outputs": [
    {
     "name": "stdout",
     "output_type": "stream",
     "text": [
      "n_w = 2435    n_b = 2435\n",
      "Expected number of successes and failures for w = (195.99999999999997, 2239.0)\n",
      "Expected number of successes and failures for b = (195.99999999999997, 2239.0)\n",
      "Observed proportion difference p_w - p_b = 0.0320329\n"
     ]
    }
   ],
   "source": [
    "# estimate the population proportions for the null hypothesis\n",
    "p_0 = np.sum(data.call) / len(data.call)\n",
    "\n",
    "# verify that each group has the same number of data points\n",
    "n_w = len(w.call)\n",
    "n_b = len(b.call)\n",
    "print('n_w =', n_w,'   n_b =', n_b)\n",
    "\n",
    "# print the expected number of successes for each group\n",
    "nexp_b = p_0 * n_b\n",
    "nexp_w = p_0 * n_w\n",
    "print('Expected number of successes and failures for w =',\n",
    "      (nexp_w, n_w - nexp_w))\n",
    "print('Expected number of successes and failures for b =',\n",
    "      (nexp_b, n_b - nexp_b))\n",
    "\n",
    "# find the difference between sample proportions\n",
    "p_w = np.mean(w.call)\n",
    "p_b = np.mean(b.call)\n",
    "p_wmb = p_w - p_b\n",
    "\n",
    "# null hypothesis variance of the sampling distribution\n",
    "var_p_wmb = p_0 * (1 - p_0) * ((1 / n_w) + (1 / n_b))\n",
    "\n",
    "print('Observed proportion difference p_w - p_b =', p_wmb)"
   ]
  },
  {
   "cell_type": "markdown",
   "metadata": {
    "collapsed": true
   },
   "source": [
    "### Bootstrap"
   ]
  },
  {
   "cell_type": "code",
   "execution_count": 7,
   "metadata": {},
   "outputs": [
    {
     "name": "stdout",
     "output_type": "stream",
     "text": [
      "\n",
      "Bootstrap Summary \n",
      "\n",
      "99% Confidence Interval is (0.011909651569639634, 0.052566735758551336)\n",
      "Margin of Error = 0.0203285420945\n",
      "p-value = 0.0\n"
     ]
    }
   ],
   "source": [
    "print('\\nBootstrap Summary \\n')\n",
    "\n",
    "# seed the pseudorandom number generator\n",
    "np.random.seed(42)\n",
    "\n",
    "# set the number of replicates to generate\n",
    "NREPS = 10000\n",
    "\n",
    "# initialize an array for the bootstrap replicates\n",
    "bs_reps = np.empty(NREPS)\n",
    "\n",
    "# generate 10000 bootstrap replicates for p_w - p_b\n",
    "bs_reps_w = np.random.binomial(n_w, p_0, size=NREPS) / n_w\n",
    "bs_reps_b = np.random.binomial(n_b, p_0, size=NREPS) / n_b\n",
    "bs_reps = bs_reps_w - bs_reps_b\n",
    "    \n",
    "# evaluate the confidence interval\n",
    "ci_bs = np.percentile(bs_reps + p_wmb, [0.5, 99.5])\n",
    "print('99% Confidence Interval is', tuple(ci_bs))\n",
    "\n",
    "# evaluate the margin of error\n",
    "me_bs = (ci_bs[1] - ci_bs[0]) / 2\n",
    "print('Margin of Error =', me_bs)\n",
    "\n",
    "# evaluate the p-value\n",
    "p_bs = np.sum(bs_reps >= p_wmb) / len(bs_reps)\n",
    "print('p-value =', p_bs)"
   ]
  },
  {
   "cell_type": "markdown",
   "metadata": {},
   "source": [
    "### z-test"
   ]
  },
  {
   "cell_type": "code",
   "execution_count": 8,
   "metadata": {},
   "outputs": [
    {
     "name": "stdout",
     "output_type": "stream",
     "text": [
      "z-test Summary \n",
      "\n",
      "Observed z-score = 4.10841223524\n",
      "99% Confidence Interval is (0.011949386720027055, 0.052116322990094097)\n",
      "Margin of Error = 0.020083468135\n",
      "p-value = 1.99194270475e-05\n"
     ]
    }
   ],
   "source": [
    "# perform a z-test\n",
    "print('z-test Summary \\n')\n",
    "\n",
    "# evaluate the z-score \n",
    "z = (p_wmb - 0) / np.sqrt(var_p_wmb)\n",
    "print('Observed z-score =', z)\n",
    "\n",
    "# evaluate the 99% confidence interval\n",
    "ci_z = stats.norm.interval(0.99, loc=p_wmb, scale=np.sqrt(var_p_wmb))\n",
    "print('99% Confidence Interval is', ci_z)\n",
    "\n",
    "# evaluate the margin of error\n",
    "me_z = (ci_z[1] - ci_z[0]) / 2\n",
    "print('Margin of Error =', me_z)\n",
    "\n",
    "# evaluate the p-value\n",
    "p_z = 1 - stats.norm.cdf(z)\n",
    "print('p-value =', p_z)"
   ]
  },
  {
   "cell_type": "markdown",
   "metadata": {},
   "source": [
    "<div class=\"span5 alert alert-success\">\n",
    "<p> \n",
    "A 99% confidence interval was evaluated for each of two different approaches. The corresponding margin of error was evaluated for each confidence interval as well.  Both the bootstrap approach and the frequentist approach had similar results, with a confidence interval of $(0.01, 0.05)$ and a margin of error of $0.02$.  These results suggest that, with 99% confidence, the true difference between the population proportions of callbacks for white sounding names and black sounding names is within this interval.  The interval does not include 0, so the confidence intervals suggest that the two population proportions are not equal.  \n",
    "<br>\n",
    "A $p$-value was obtained for each of two hypothesis tests.  The bootstrap hypothesis test gave a $p$-value of $0$, indicating that none of the 10,000 generated bootstrap replicates were at least as extreme as the difference between the observed sample proportions.  The $z$-test gave a $p$-value of $2.0 \\times 10^{-5}$, indicating that there is a less than 1 % chance of observing a value as extreme as the difference between the sample proportions or greater under the null hypothesis.  <b>For each test, the null hypothesis is rejected and the alternative hypothesis is accepted.  The tests indicate that there is a significant difference between the population proportions of callbacks for white sounding names and black sounding names.  Specifically, these one-tailed tests indicate that the black sounding names have a lower population proportion of callbacks than the white sounding names.</b>  \n",
    "<br>\n",
    "This analysis does not provide an indication of the importance of race/name in callback success.  The $p$-values do not indicate the importance of the factors.  Further analysis could perform multiple regression to model the callback proportion as a function of several variables.  The importance of each variable could be determined by comparing their standardized regression coefficients.  The standardized coefficients compare the relative influence that perturbations in each variable have on callback proportions.  Although regression coefficients cannot necessarily be compared directly because they may have different units, standardized coefficients share the same scale and so they can be compared directly.  Variables with larger standardized coefficients are considered more important for callback rates.\n",
    "</p>\n",
    "</div>"
   ]
  }
 ],
 "metadata": {
  "anaconda-cloud": {},
  "kernelspec": {
   "display_name": "Python [conda env:py34]",
   "language": "python",
   "name": "conda-env-py34-py"
  },
  "language_info": {
   "codemirror_mode": {
    "name": "ipython",
    "version": 3
   },
   "file_extension": ".py",
   "mimetype": "text/x-python",
   "name": "python",
   "nbconvert_exporter": "python",
   "pygments_lexer": "ipython3",
   "version": "3.4.5"
  }
 },
 "nbformat": 4,
 "nbformat_minor": 1
}
