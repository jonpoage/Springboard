{
 "cells": [
  {
   "cell_type": "markdown",
   "metadata": {},
   "source": [
    "# What is the True Normal Human Body Temperature? \n",
    "\n",
    "#### Background\n",
    "\n",
    "The mean normal body temperature was held to be 37$^{\\circ}$C or 98.6$^{\\circ}$F for more than 120 years since it was first conceptualized and reported by Carl Wunderlich in a famous 1868 book. But, is this value statistically correct?"
   ]
  },
  {
   "cell_type": "markdown",
   "metadata": {},
   "source": [
    "<h3>Exercises</h3>\n",
    "\n",
    "<p>In this exercise, you will analyze a dataset of human body temperatures and employ the concepts of hypothesis testing, confidence intervals, and statistical significance.</p>\n",
    "\n",
    "<p>Answer the following questions <b>in this notebook below and submit to your Github account</b>.</p> \n",
    "\n",
    "<ol>\n",
    "<li>  Is the distribution of body temperatures normal? \n",
    "    <ul>\n",
    "    <li> Although this is not a requirement for the Central Limit Theorem to hold (read the introduction on Wikipedia's page about the CLT carefully: https://en.wikipedia.org/wiki/Central_limit_theorem), it gives us some peace of mind that the population may also be normally distributed if we assume that this sample is representative of the population.\n",
    "    <li> Think about the way you're going to check for the normality of the distribution. Graphical methods are usually used first, but there are also other ways: https://en.wikipedia.org/wiki/Normality_test\n",
    "    </ul>\n",
    "<li>  Is the sample size large? Are the observations independent?\n",
    "    <ul>\n",
    "    <li> Remember that this is a condition for the Central Limit Theorem, and hence the statistical tests we are using, to apply.\n",
    "    </ul>\n",
    "<li>  Is the true population mean really 98.6 degrees F?\n",
    "    <ul>\n",
    "    <li> First, try a bootstrap hypothesis test.\n",
    "    <li> Now, let's try frequentist statistical testing. Would you use a one-sample or two-sample test? Why?\n",
    "    <li> In this situation, is it appropriate to use the $t$ or $z$ statistic? \n",
    "    <li> Now try using the other test. How is the result be different? Why?\n",
    "    </ul>\n",
    "<li>  Draw a small sample of size 10 from the data and repeat both frequentist tests. \n",
    "    <ul>\n",
    "    <li> Which one is the correct one to use? \n",
    "    <li> What do you notice? What does this tell you about the difference in application of the $t$ and $z$ statistic?\n",
    "    </ul>\n",
    "<li>  At what temperature should we consider someone's temperature to be \"abnormal\"?\n",
    "    <ul>\n",
    "    <li> As in the previous example, try calculating everything using the boostrap approach, as well as the frequentist approach.\n",
    "    <li> Start by computing the margin of error and confidence interval. When calculating the confidence interval, keep in mind that you should use the appropriate formula for one draw, and not N draws.\n",
    "    </ul>\n",
    "<li>  Is there a significant difference between males and females in normal temperature?\n",
    "    <ul>\n",
    "    <li> What testing approach did you use and why?\n",
    "    <li> Write a story with your conclusion in the context of the original problem.\n",
    "    </ul>\n",
    "</ol>\n",
    "\n",
    "You can include written notes in notebook cells using Markdown: \n",
    "   - In the control panel at the top, choose Cell > Cell Type > Markdown\n",
    "   - Markdown syntax: http://nestacms.com/docs/creating-content/markdown-cheat-sheet\n",
    "\n",
    "#### Resources\n",
    "\n",
    "+ Information and data sources: http://www.amstat.org/publications/jse/datasets/normtemp.txt, http://www.amstat.org/publications/jse/jse_data_archive.htm\n",
    "+ Markdown syntax: http://nestacms.com/docs/creating-content/markdown-cheat-sheet\n",
    "\n",
    "****"
   ]
  },
  {
   "cell_type": "code",
   "execution_count": 1,
   "metadata": {
    "collapsed": true
   },
   "outputs": [],
   "source": [
    "import pandas as pd\n",
    "\n",
    "df = pd.read_csv('data/human_body_temperature.csv')"
   ]
  },
  {
   "cell_type": "code",
   "execution_count": 2,
   "metadata": {
    "collapsed": true
   },
   "outputs": [],
   "source": [
    "# Your work here."
   ]
  },
  {
   "cell_type": "code",
   "execution_count": 3,
   "metadata": {
    "collapsed": true
   },
   "outputs": [],
   "source": [
    "# import other packages\n",
    "import matplotlib.pyplot as plt\n",
    "import numpy as np"
   ]
  },
  {
   "cell_type": "code",
   "execution_count": 4,
   "metadata": {
    "collapsed": true
   },
   "outputs": [],
   "source": [
    "# seed the pseudorandom number generator\n",
    "np.random.seed(42)"
   ]
  },
  {
   "cell_type": "markdown",
   "metadata": {
    "raw_mimetype": "text/markdown"
   },
   "source": [
    "## Normal Distribution\n",
    "\n",
    "The probability density function of the normal distribution with mean $\\mu$ and variance $\\sigma^2$ is given by\n",
    "\n",
    "$$f(x) = \\frac{1}{\\sqrt{2\\pi\\sigma^2}} e^{-\\frac{(x-\\mu)^2}{2\\sigma^2}}$$"
   ]
  },
  {
   "cell_type": "code",
   "execution_count": 5,
   "metadata": {
    "collapsed": true
   },
   "outputs": [],
   "source": [
    "# define a function for the pdf of a normal distribution\n",
    "def norm_pdf(x,mu,sigma2):\n",
    "    \"\"\"This function computes the pdf value f(x) for a \n",
    "    normal distribution with mean mu and variance sigma2.\n",
    "    It takes an array_like x, and scalar mu and sigma2 as input.\"\"\"\n",
    "    denom = np.sqrt(2 * np.pi * sigma2)\n",
    "    exponent = -(x - mu)**2 / (2 * sigma2)\n",
    "    f = np.exp(exponent) / denom\n",
    "    \n",
    "    return f"
   ]
  },
  {
   "cell_type": "code",
   "execution_count": 6,
   "metadata": {
    "collapsed": true
   },
   "outputs": [],
   "source": [
    "# define a function to calculate a bootstrap sample\n",
    "def bs_sample(data):\n",
    "    \"\"\"this function takes an array of data and returns\n",
    "    a bootstrap sample\"\"\"\n",
    "    \n",
    "    # evaluate and return the bootstrap sample\n",
    "    sample = np.random.choice(data, size=len(data))\n",
    "    return sample\n",
    "\n",
    "# define a function to calculate bootstrap replicates\n",
    "def bs_reps(data, func, n_reps):\n",
    "    \"\"\"This function takes an array of data, a function,\n",
    "    and an integer as input.  n_reps bootstrap samples\n",
    "    are created from the data, and replicates are evaluated\n",
    "    from the samples using the function func.\n",
    "    NOTE: This function depends on the \n",
    "        user defined function bs_sample()!!!\"\"\"\n",
    "    \n",
    "    # initialize an array of replicates\n",
    "    reps = np.empty(n_reps)\n",
    "    \n",
    "    # create a for loop\n",
    "    for i in range(n_reps):\n",
    "        # create a bootstrap sample\n",
    "        sample = bs_sample(data)\n",
    "        \n",
    "        # evaluate the bootstrap replicate\n",
    "        reps[i] = func(sample)\n",
    "    \n",
    "    # return the array of bootstrap replicates\n",
    "    return reps"
   ]
  },
  {
   "cell_type": "markdown",
   "metadata": {},
   "source": [
    "## Task 1"
   ]
  },
  {
   "cell_type": "code",
   "execution_count": 7,
   "metadata": {
    "scrolled": true
   },
   "outputs": [
    {
     "data": {
      "image/png": "[encoded data removed]",
      "text/plain": [
       "<matplotlib.figure.Figure at 0x448d828>"
      ]
     },
     "metadata": {},
     "output_type": "display_data"
    }
   ],
   "source": [
    "# hard code the bin edges and centers.\n",
    "bin_edges = np.linspace(96, 101, (101-96)*2 + 1)\n",
    "\n",
    "# plot a normalized histogram of temperatures. \n",
    "df.temperature.hist(bins=bin_edges, normed=True, label='Data')   \n",
    "\n",
    "# find the mean and sample variance of the dataset\n",
    "mean_t = np.mean(df.temperature)\n",
    "var_t = np.var(df.temperature, ddof=1)\n",
    "\n",
    "# plot the normal curve using the optimal parameters from the dataset\n",
    "x = np.linspace(int(df.temperature.min() - 2),int(df.temperature.max() + 2),200)\n",
    "y = norm_pdf(x, mean_t, var_t)\n",
    "plt.plot(x,y, label='Normal Distribution')\n",
    "\n",
    "# configure and show the plot\n",
    "plt.xlabel('Temperature (degrees F)')\n",
    "plt.ylabel('Count')\n",
    "plt.legend()\n",
    "plt.show()"
   ]
  },
  {
   "cell_type": "markdown",
   "metadata": {},
   "source": [
    "The temperature data appears to be normally distributed.  The theoretical pdf for the normal distrubution using the optimal parameters from the dataset resembles the shape of the histogram of the data.\n",
    "\n",
    "A $\\chi^2$ Goodness-of-Fit Test is performed on the data to determine if the temperature population distribution is normal.  \n",
    "\n",
    "The null and alternative hypotheses are:\n",
    "\n",
    ">H$_0$: The distribution of body temperatures is normal.  \n",
    ">H$_1$: The distribution of body temperatures is not normal.\n",
    "\n",
    "A significance level of $\\alpha=0.05$ is chosen for this test. \n",
    "\n",
    "The data is separated into 10 bins by first separating the z-distribution into 10 regions of equal area, and then by transforming the corresponding z values to obtain the bins for the temperatures.  Each bin is expected to contain 13 data points.  \n",
    "\n",
    "The $\\chi^2$ value is evaluated by the following expression\n",
    "\\begin{align}\n",
    "\\chi^2 = \\sum_{i=1}^{n} \\frac{(O_i - E_i)^2}{E_i}\n",
    "\\end{align}\n",
    "where n is the number of bins, $O_i$ is the obeserved count for bin $i$, and $E_i$ is the expected count for bin $i$.\n",
    "\n",
    "The degrees of freedom are given by $n - k - 1$ where $n$ is the number of bins and $k$ is the number of parameters. In this case, there are 10 bins and 2 parameters, resulting in 7 degrees of freedom."
   ]
  },
  {
   "cell_type": "code",
   "execution_count": 8,
   "metadata": {
    "collapsed": true
   },
   "outputs": [],
   "source": [
    "# set the 10, 20, ... , 90 percentiles of the z-distribution\n",
    "# NOTE:  I could not get scipy.stats to import!!!  Hard code the values.\n",
    "z_bin_edges = np.array([-1.28, -0.84, -0.52, -0.25, 0, \n",
    "               0.25, 0.52, 0.84, 1.28])\n",
    "\n",
    "# set the bin edges for the temperatures\n",
    "x_bin_edges_mid = z_bin_edges * np.sqrt(var_t) + mean_t\n",
    "x_bin_edges = np.concatenate((np.array([df.temperature.min() - 1]),\n",
    "                              x_bin_edges_mid,\n",
    "                             np.array([df.temperature.max() + 1])))"
   ]
  },
  {
   "cell_type": "code",
   "execution_count": 9,
   "metadata": {
    "collapsed": true
   },
   "outputs": [],
   "source": [
    "# get the obeserved count for each bin\n",
    "obs = df.groupby(pd.cut(df.temperature, x_bin_edges, right=False, labels=False))['temperature'].count()\n",
    "\n",
    "# get the expected count for each bin\n",
    "exp = np.ones(10) * len(df.temperature) / 10"
   ]
  },
  {
   "cell_type": "code",
   "execution_count": 10,
   "metadata": {},
   "outputs": [
    {
     "name": "stdout",
     "output_type": "stream",
     "text": [
      "Chi-Squared value = 4.76923076923\n"
     ]
    }
   ],
   "source": [
    "# calculcate the chi-squared statistic\n",
    "chi2 = np.sum((obs - exp)**2 / exp)\n",
    "print('Chi-Squared value =' ,chi2)"
   ]
  },
  {
   "cell_type": "markdown",
   "metadata": {},
   "source": [
    "The critical $\\chi^2$ value for 7 degrees of freedom with $\\alpha=0.05$ is listed as 14.067 in a lookup table.  The observed value is far below this critical value, and so the p-value for the test statistic is greater than 5%, and we are unable to reject the null hypothesis.  \n",
    "\n",
    "This test result suggests that the temperatures are normally distributed."
   ]
  },
  {
   "cell_type": "markdown",
   "metadata": {},
   "source": [
    "## Task 2"
   ]
  },
  {
   "cell_type": "code",
   "execution_count": 11,
   "metadata": {},
   "outputs": [
    {
     "name": "stdout",
     "output_type": "stream",
     "text": [
      "Temperature sample size = 130\n"
     ]
    }
   ],
   "source": [
    "# determine the number of data points\n",
    "print('Temperature sample size =',df.temperature.count())"
   ]
  },
  {
   "cell_type": "markdown",
   "metadata": {},
   "source": [
    "The temperature dataset contains 130 data points.  Typically, the Central Limit Theorem holds for sample sizes $\\ge$ 30, and so **this sample size is sufficiently large**.  \n",
    "\n",
    "**We will consider the temperatures as independent for the sake of this assignment**.  One subject's temperature should not influence any other subject's temperature.  If a more rigorous analysis is desired, one should review the data collection methods to determine if the data points are truly independent.  For example, it's possible that some test subjects were grouped together in small waiting rooms prior to the measurements, meaning their temperatures would affect the ambient temperature and therefore the temperature of the other test subjects in the room.  \n",
    "\n",
    "**We also assume the data was randomly sampled, for the sake of this assignment.**"
   ]
  },
  {
   "cell_type": "markdown",
   "metadata": {},
   "source": [
    "## Task 3"
   ]
  },
  {
   "cell_type": "markdown",
   "metadata": {},
   "source": [
    "The hypothesis tests in this section are peformed to evaulate whether the true population mean temperature is different from 98.6 degrees F, using a significance level of $\\alpha = 0.05$.  The null and alternative hypotheses are:\n",
    "\n",
    ">H$_0$: $\\mu = 98.6$ degrees F  \n",
    ">H$_1$: $\\mu \\neq 98.6$ degrees F\n",
    "\n",
    "where $\\mu$ is the true population mean.  The hypothesis tests are two-tailed tests, because they test whether the mean population temperature is different from 98.6 degrees F rather than testing if it is strictly above or below this value.  "
   ]
  },
  {
   "cell_type": "markdown",
   "metadata": {},
   "source": [
    "### Bootstrap Hypothesis Test"
   ]
  },
  {
   "cell_type": "code",
   "execution_count": 12,
   "metadata": {
    "collapsed": true
   },
   "outputs": [],
   "source": [
    "# shift the temperature distribution so that its mean is 98.6 deg F.\n",
    "shifted_t = df.temperature - mean_t + 98.6\n",
    "\n",
    "# create 10000 bootstrap replicates of the mean shifted temperature\n",
    "t_bs_reps = bs_reps(shifted_t, np.mean, 10000)"
   ]
  },
  {
   "cell_type": "code",
   "execution_count": 13,
   "metadata": {},
   "outputs": [
    {
     "data": {
      "image/png": "[encoded data removed]",
      "text/plain": [
       "<matplotlib.figure.Figure at 0x4470ac8>"
      ]
     },
     "metadata": {},
     "output_type": "display_data"
    }
   ],
   "source": [
    "# plot a histogram of the bootstrap replicates\n",
    "plt.hist(t_bs_reps, bins=12)\n",
    "plt.xlabel('Temperature (degrees F)')\n",
    "plt.ylabel('Count')\n",
    "plt.title('10,000 Bootstrap Replicates of the Mean Temperature')\n",
    "plt.show()"
   ]
  },
  {
   "cell_type": "code",
   "execution_count": 14,
   "metadata": {},
   "outputs": [
    {
     "name": "stdout",
     "output_type": "stream",
     "text": [
      "p-value = 0.0\n"
     ]
    }
   ],
   "source": [
    "# evaluate the p-value\n",
    "p_val = np.sum(abs(t_bs_reps - 98.6) >= abs(mean_t - 98.6)) / len(t_bs_reps)\n",
    "print('p-value =', p_val)"
   ]
  },
  {
   "cell_type": "markdown",
   "metadata": {},
   "source": [
    "A bootstrap hypothesis test was performed by shifting the distribution of temperature values such that the mean changed to 98.6 degrees F, to be consistent with the null hypothesis, then generating 10,000 bootstrap replicates of the mean temperature from the shifted dataset.  The p-value of 0 indicates that none of the 10,000 replicates had a value at least as extreme as the original dataset's mean.  This indicates that, assuming the null hypothesis is true, there is less than a 0.01% likelihood of obtaining a value as extreme or greater than the mean temperature in the dataset by chance.  \n",
    "\n",
    "The null hypothesis is rejected, and the alternative hypothesis is accepted.  **This bootstrap hypothesis test indicates that the mean population temperature is different from 98.6 degrees F.**"
   ]
  },
  {
   "cell_type": "markdown",
   "metadata": {},
   "source": [
    "### $z$-test\n",
    "\n",
    "It is most appropriate to use a $z$-statistic for this task.  Although the true population variance is unknown, the sample size is sufficiently large ($\\ge 30$) to assume the sampling distribution of the sample mean is normally distributed.\n",
    "\n",
    "Assuming the null hypthesis, the sampling distribution of the sample mean has a mean $\\mu_{\\bar{x}}$ of 98.6 degrees F.  The standard error of the mean, $\\sigma_{\\bar{x}}$, is estimated as $\\frac{s}{\\sqrt{n}}$, where $s$ is the sample standard deviation and $n$ is the number of data points in the sample.\n",
    "\n",
    "The $z$-score of a mean temperature is given by\n",
    "\n",
    "\\begin{align}\n",
    "z(\\bar{x}) = \\frac{\\bar{x} - \\mu_{\\bar{x}}}{\\sigma_{\\bar{x}}}\n",
    "\\end{align}"
   ]
  },
  {
   "cell_type": "code",
   "execution_count": 15,
   "metadata": {},
   "outputs": [
    {
     "name": "stdout",
     "output_type": "stream",
     "text": [
      "z-score = -5.45482329236\n"
     ]
    }
   ],
   "source": [
    "# evaluate the z score of the sample mean\n",
    "z = (mean_t - 98.6) / (np.sqrt(var_t)/np.sqrt(len(df.temperature)))\n",
    "\n",
    "#print the results\n",
    "print('z-score =', z)"
   ]
  },
  {
   "cell_type": "markdown",
   "metadata": {},
   "source": [
    "The $z$-score of the observed sample mean is $-5.45$.  The lower critical $z$-score for a two-tailed test with significance level $\\alpha=0.05$ is -1.96.  The observed value is below this critical value, so the null hypothesis is rejected and the alternative hypothesis is accepted.  \n",
    "\n",
    "**This test indicates that the population mean temperature is different from 98.6 degrees F.**\n",
    "\n"
   ]
  },
  {
   "cell_type": "markdown",
   "metadata": {},
   "source": [
    "### $t$-test"
   ]
  },
  {
   "cell_type": "markdown",
   "metadata": {},
   "source": [
    "A $t$-statistic is used for this hypothesis test, although a $z$-statistic is more appropriate.  This $t$-test may produce a different $p$-value because the Student's $t$-distribution has a different shape than the standard normal distribution.  Each of the two test statistics have the same observed value, but the associated $p$-value should be higher for the $t$-distribution than for the standard normal distribution.  In this case, with 130 data points, the difference between the two $p$-values should be small.  \n",
    "\n",
    "Assuming the null hypothesis, the sampling distribution of the sample mean has a mean $\\mu_{\\bar{x}}$ of 98.6 degrees F.  The standard error of the mean, $\\sigma_{\\bar{x}}$, is estimated as $\\frac{s}{\\sqrt{n}}$, where $s$ is the sample standard deviation and $n$ is the number of data points in the sample.\n",
    "\n",
    "The $t$-score of a mean temperature is given by\n",
    "\n",
    "\\begin{align}\n",
    "t(\\bar{x}) = \\frac{\\bar{x} - \\mu_{\\bar{x}}}{\\sigma_{\\bar{x}}}\n",
    "\\end{align}\n",
    "\n",
    "The degrees of freedom are given by $n$ - 1, where $n$ is the number of data points in the sample.  In this case, there are 129 degrees of freedom.  \n",
    "\n",
    "The $t$-score of the observed sample mean is $-5.45$.  It has the same value as the $z$-score evaluated in the previous section.  The lower critical $t$-score for a two-tailed test with significance level $\\alpha=0.05$ and 129 degrees of freedom is approximately -1.98.  The observed value is below this critical value, so the null hypothesis is rejected and the alternative hypothesis is accepted.\n",
    "\n",
    "**This test indicates that the population mean temperature is different from 98.6 degrees F.**"
   ]
  },
  {
   "cell_type": "markdown",
   "metadata": {},
   "source": [
    "## Task 4"
   ]
  },
  {
   "cell_type": "markdown",
   "metadata": {},
   "source": [
    "The $t$-test and $z$-test are repeated for a sample of size 10, drawn at random with replacement from the dataset.  Once again, a significance level of $\\alpha=0.05$ is used.  This time, there are 9 degrees of freedom because the sample has 10 data points. The null and alternative hypotheses are:\n",
    "\n",
    ">H$_0$: $\\mu = 98.6$ degrees F  \n",
    ">H$_1$: $\\mu \\neq 98.6$ degrees F"
   ]
  },
  {
   "cell_type": "code",
   "execution_count": 16,
   "metadata": {
    "collapsed": true
   },
   "outputs": [],
   "source": [
    "# draw a random sample of size 10 from the dataset\n",
    "t_10 = np.random.choice(df.temperature,size=10)\n",
    "\n",
    "#calculate the mean and sample variance\n",
    "m_10 = np.mean(t_10)\n",
    "var_10 = np.var(t_10, ddof=1)"
   ]
  },
  {
   "cell_type": "code",
   "execution_count": 17,
   "metadata": {},
   "outputs": [
    {
     "name": "stdout",
     "output_type": "stream",
     "text": [
      "The observed z-score (or t-score) =  2.2948907108\n"
     ]
    }
   ],
   "source": [
    "# evaluate the z-score.  The t-score also has this value.\n",
    "zt_10 = (m_10 - 98.6) / (np.sqrt(var_10 / len(t_10)))\n",
    "print('The observed z-score (or t-score) = ', zt_10)"
   ]
  },
  {
   "cell_type": "markdown",
   "metadata": {},
   "source": [
    "The observed $z$-score, or equivalently the observed $t$-score, is 2.29.  The upper critical $z$-score is once again 1.96.  The observed $z$-score is above this critical value, so the null hypothesis is rejected and the alternative hypothesis is accepted.  \n",
    "\n",
    "The upper critical $t$-score is now 2.262, because the degrees of freedom have changed from 129 to 9.  The observed $t$-score is above this critical value, so the null hypothesis is rejected and the alternative hypothesis is accepted.  \n",
    "\n",
    "**Both tests indicate that the population mean temperature is different from 98.6 degrees F.**  The $t$-test is more appropriate in this case, because the sample size is small ($\\lt 30$), and the population variance is unknown. The sampling distribution of the sample mean does not approximate a normal distribution well for samples of size 10.\n",
    "\n",
    "**It is worth noting that the $t$-score is very close to the critical value.  Furthermore, a significance level of $0.01$ would have resulted in different conclusions.**  This alternative threshold has an associated critical $t$-value of 3.250, and a critical $z$-value of 2.567. **The tests would have indicated that the mean temperature is not different from 98.6 degrees F, if they had used a significance level of $\\alpha=0.01$.**\n"
   ]
  },
  {
   "cell_type": "code",
   "execution_count": 18,
   "metadata": {},
   "outputs": [
    {
     "data": {
      "image/png": "[encoded data removed]",
      "text/plain": [
       "<matplotlib.figure.Figure at 0x8fe4198>"
      ]
     },
     "metadata": {},
     "output_type": "display_data"
    }
   ],
   "source": [
    "# histogram of the sample.\n",
    "plt.hist(t_10)\n",
    "plt.xlabel('Temperature (degrees F)')\n",
    "plt.ylabel('Count')\n",
    "plt.title('Temperature Values for the Sample of Size 10')\n",
    "plt.show()"
   ]
  },
  {
   "cell_type": "markdown",
   "metadata": {},
   "source": [
    "## Task 5"
   ]
  },
  {
   "cell_type": "markdown",
   "metadata": {},
   "source": [
    "In this section, 99% confidence intervals are evaluated using three different methods.  The Margin of Error in each case is half of the range of the associated confidence interval.  "
   ]
  },
  {
   "cell_type": "markdown",
   "metadata": {},
   "source": [
    "### Bootstrap"
   ]
  },
  {
   "cell_type": "code",
   "execution_count": 19,
   "metadata": {},
   "outputs": [
    {
     "name": "stdout",
     "output_type": "stream",
     "text": [
      "The 99% confidence interval is ( 98.0853846154 ,  98.4169230769 )\n",
      "The margin of error is 0.165769230769\n"
     ]
    }
   ],
   "source": [
    "# create 10,000 bootstrap replicates of the mean\n",
    "t_bs_reps_task5 = bs_reps(df.temperature, np.mean, 10000)\n",
    "\n",
    "# evaluate the 99 % confidence interval\n",
    "bs_reps_99ci = np.percentile(t_bs_reps_task5, [0.5, 99.5])\n",
    "\n",
    "# calculate the margin of error\n",
    "bs_me = (bs_reps_99ci[1] - bs_reps_99ci[0]) / 2\n",
    "\n",
    "print('The 99% confidence interval is (', bs_reps_99ci[0], ', ', bs_reps_99ci[1], ')')\n",
    "print('The margin of error is', bs_me)"
   ]
  },
  {
   "cell_type": "markdown",
   "metadata": {
    "collapsed": true
   },
   "source": [
    "### $t$-statistic"
   ]
  },
  {
   "cell_type": "code",
   "execution_count": 20,
   "metadata": {},
   "outputs": [
    {
     "name": "stdout",
     "output_type": "stream",
     "text": [
      "The 99% confidence interval is ( 98.0820392855 ,  98.416422253 )\n",
      "The margin of error is 0.167191483779\n"
     ]
    }
   ],
   "source": [
    "# evaluate the critical t-score for a 99% confidence interval.\n",
    "#NOTE: I could not find a table with exactly 129 degrees of freedom.\n",
    "#      I am approximating a value between 100 and 1000 d.o.f.\n",
    "t_crit = 2.6\n",
    "\n",
    "# evaluate the 99 % confidence interval\n",
    "t_crits = np.array([-t_crit, t_crit])\n",
    "ci_t = t_crits * np.sqrt(var_t/len(df.temperature)) + mean_t\n",
    "\n",
    "# calculate the margin of error\n",
    "me_t = (ci_t[1] - ci_t[0]) / 2\n",
    "\n",
    "print('The 99% confidence interval is (', ci_t[0], ', ', ci_t[1], ')')\n",
    "print('The margin of error is', me_t)"
   ]
  },
  {
   "cell_type": "markdown",
   "metadata": {
    "collapsed": true
   },
   "source": [
    "### $z$-statistic"
   ]
  },
  {
   "cell_type": "code",
   "execution_count": 21,
   "metadata": {},
   "outputs": [
    {
     "name": "stdout",
     "output_type": "stream",
     "text": [
      "The 99% confidence interval is ( 98.0835825915 ,  98.414878947 )\n",
      "The margin of error is 0.165648177774\n"
     ]
    }
   ],
   "source": [
    "# evaluate the critical z-score for a 99% confidence interval.\n",
    "z_crit = 2.576\n",
    "\n",
    "# evaluate the 99 % confidence interval\n",
    "z_crits = np.array([-z_crit, z_crit])\n",
    "ci_z = z_crits * np.sqrt(var_t/len(df.temperature)) + mean_t\n",
    "\n",
    "# calculate the margin of error\n",
    "me_z = (ci_z[1] - ci_z[0]) / 2\n",
    "\n",
    "print('The 99% confidence interval is (', ci_z[0], ', ', ci_z[1], ')')\n",
    "print('The margin of error is', me_z)"
   ]
  },
  {
   "cell_type": "markdown",
   "metadata": {},
   "source": [
    "All three methods produce similar results for the 99% confidence interval and the margin of error of the mean temperature.  **These approaches indicate that a temperature below roughly 98.1 degrees F or above roughly 98.4 degrees F is abnormal.**\n",
    "\n",
    "These approaches indicate the spread of the sampling distribution of the sample mean, rather than the spread of the population temperature distribution.  It is possible to calculate the 0.5th and 99.5th percentiles of the dataset in order to quantify the spread.  It is also possible to model the data with a theoretical normal distribution, and then determine the bounds that contain 99% of the area of the theoretical probability density function.  These techniques will not be performed in this assignment."
   ]
  },
  {
   "cell_type": "markdown",
   "metadata": {},
   "source": [
    "## Task 6"
   ]
  },
  {
   "cell_type": "code",
   "execution_count": 22,
   "metadata": {},
   "outputs": [
    {
     "name": "stdout",
     "output_type": "stream",
     "text": [
      "n_male =  65 , n_female =  65\n"
     ]
    }
   ],
   "source": [
    "# separate the temperatures by gender\n",
    "t_m = df.temperature[df.gender == 'M']\n",
    "t_f = df.temperature[df.gender == 'F']\n",
    "\n",
    "print('n_male = ', t_m.size, ', n_female = ', t_f.size)"
   ]
  },
  {
   "cell_type": "markdown",
   "metadata": {
    "collapsed": true
   },
   "source": [
    "A two sample $z$-test is performed to determine whether males and females have different normal body temperatures.  There are 65 data points for each gender, so the sample size is sufficiently large $( \\ge 30)$ to use the $z$-score as the test statistic.  In this case, the test will determine whether there is a significant difference between the mean temperatures. The test is performed with a significance level of $\\alpha=0.05$.  The null and alternative hyptheses are:\n",
    "\n",
    ">H$_0$: $\\mu_M = \\mu_F $  \n",
    ">H$_1$: $\\mu_M \\neq \\mu_F $\n",
    "\n",
    "where $\\mu_M$ and $\\mu_F $ are the population mean temperatures for males and females, respectively.  \n",
    "\n",
    "Assuming the null hypthesis, the sampling distribution of the difference between the sample means is modeled as a normal distribution with the mean centered at 0 degrees F.  The variance is estimated as $\\frac{s_M^2 + s_F^2}{65}$, where $s_M^2$ and $s_F^2$ are the sample variances for males and females, respectively. "
   ]
  },
  {
   "cell_type": "code",
   "execution_count": 23,
   "metadata": {},
   "outputs": [
    {
     "name": "stdout",
     "output_type": "stream",
     "text": [
      "sample mean temperature for males is 98.1046153846 degrees F\n",
      "sample mean temperature for females is 98.3938461538 degrees F\n"
     ]
    }
   ],
   "source": [
    "print('sample mean temperature for males is', np.mean(t_m), 'degrees F')\n",
    "print('sample mean temperature for females is', np.mean(t_f), 'degrees F')"
   ]
  },
  {
   "cell_type": "code",
   "execution_count": 24,
   "metadata": {
    "scrolled": true
   },
   "outputs": [
    {
     "name": "stdout",
     "output_type": "stream",
     "text": [
      "The observed z-score is -2.28543453817\n"
     ]
    }
   ],
   "source": [
    "# evaluate the difference of means\n",
    "mean_MmF = np.mean(t_m) - np.mean(t_f)\n",
    "\n",
    "# evaluate the sum of sample variances\n",
    "var_MmF = np.var(t_m, ddof=1) + np.var(t_f, ddof=1)\n",
    "\n",
    "# evaluate the z score\n",
    "z_MmF = (mean_MmF - 0) / np.sqrt(var_MmF / 65)\n",
    "\n",
    "print('The observed z-score is', z_MmF)"
   ]
  },
  {
   "cell_type": "markdown",
   "metadata": {
    "collapsed": true
   },
   "source": [
    "The observed $z$-score of -2.285 has an associated $p$-value of 0.00219.  This $p$-value is below the threshold of $0.05$, meaning there is less than a 5% chance of sampling the observed value assuming the null hypothesis is true.  The null hypothesis is rejected, and the alternative hypothesis is accepted.\n",
    "\n",
    "**This test indicates that there is a significant difference between the mean temperatures for males and females.**"
   ]
  },
  {
   "cell_type": "markdown",
   "metadata": {
    "collapsed": true
   },
   "source": [
    "Alternative tests could be performed to compare the distributions of temperatures between males and females.  A permutation test could determine whether the groups have similar distributions.  A bootstrap hypothesis test could determine whether there is a significant difference between the means of the distributions.  These tests will not be performed in this assignment."
   ]
  },
  {
   "cell_type": "markdown",
   "metadata": {
    "collapsed": true
   },
   "source": [
    "### Conclusion\n",
    "\n",
    "The tests performed in this assignment suggest that, based on the dataset, the mean normal body temperature is different from 98.6 degrees F.  In Task 3, three different hypothesis tests indicated this result.  In Task 5, confidence intervals constructed using three different methods indicated that mean temperatures above roughly 98.4 degrees F are abnormal. On a separate note, the test in Task 6 indicated that males and females have different mean normal body temperatures.  \n",
    "\n",
    "Task 4 showed interesting results compared to the other sections.  Two hypothesis tests were performed in Task 4, and the results supported the hypothesis that the mean normal body temperature is different from 98.6 degrees F.  The tests may have had different results if a different significance level was used.  It is recommended that more experiments are conducted to further examine the distribution of the normal body temperature.  Further research should take care to control the conditions of the data collection.  "
   ]
  }
 ],
 "metadata": {
  "anaconda-cloud": {},
  "celltoolbar": "Raw Cell Format",
  "kernelspec": {
   "display_name": "Python [conda env:py34]",
   "language": "python",
   "name": "conda-env-py34-py"
  },
  "language_info": {
   "codemirror_mode": {
    "name": "ipython",
    "version": 3
   },
   "file_extension": ".py",
   "mimetype": "text/x-python",
   "name": "python",
   "nbconvert_exporter": "python",
   "pygments_lexer": "ipython3",
   "version": "3.4.5"
  }
 },
 "nbformat": 4,
 "nbformat_minor": 1
}
