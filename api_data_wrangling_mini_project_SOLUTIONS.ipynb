{
 "cells": [
  {
   "cell_type": "markdown",
   "metadata": {},
   "source": [
    "This exercise will require you to pull some data from the Qunadl API. Qaundl is currently the most widely used aggregator of financial market data."
   ]
  },
  {
   "cell_type": "markdown",
   "metadata": {},
   "source": [
    "As a first step, you will need to register a free account on the http://www.quandl.com website."
   ]
  },
  {
   "cell_type": "markdown",
   "metadata": {},
   "source": [
    "After you register, you will be provided with a unique API key, that you should store:"
   ]
  },
  {
   "cell_type": "code",
   "execution_count": null,
   "metadata": {
    "collapsed": true
   },
   "outputs": [],
   "source": [
    "# Store the API key as a string - according to PEP8, constants are always named in all upper case\n",
    "API_KEY = "
   ]
  },
  {
   "cell_type": "markdown",
   "metadata": {},
   "source": [
    "Qaundl has a large number of data sources, but, unfortunately, most of them require a Premium subscription. Still, there are also a good number of free datasets."
   ]
  },
  {
   "cell_type": "markdown",
   "metadata": {},
   "source": [
    "For this mini project, we will focus on equities data from the Frankfurt Stock Exhange (FSE), which is available for free. We'll try and analyze the stock prices of a company called Carl Zeiss Meditec, which manufactures tools for eye examinations, as well as medical lasers for laser eye surgery: https://www.zeiss.com/meditec/int/home.html. The company is listed under the stock ticker AFX_X."
   ]
  },
  {
   "cell_type": "markdown",
   "metadata": {},
   "source": [
    "You can find the detailed Quandl API instructions here: https://docs.quandl.com/docs/time-series"
   ]
  },
  {
   "cell_type": "markdown",
   "metadata": {},
   "source": [
    "While there is a dedicated Python package for connecting to the Quandl API, we would prefer that you use the *requests* package, which can be easily downloaded using *pip* or *conda*. You can find the documentation for the package here: http://docs.python-requests.org/en/master/ "
   ]
  },
  {
   "cell_type": "markdown",
   "metadata": {},
   "source": [
    "Finally, apart from the *requests* package, you are encouraged to not use any third party Python packages, such as *pandas*, and instead focus on what's available in the Python Standard Library (the *collections* module might come in handy: https://pymotw.com/3/collections/).\n",
    "Also, since you won't have access to DataFrames, you are encouraged to us Python's native data structures - preferably dictionaries, though some questions can also be answered using lists.\n",
    "You can read more on these data structures here: https://docs.python.org/3/tutorial/datastructures.html"
   ]
  },
  {
   "cell_type": "markdown",
   "metadata": {},
   "source": [
    "Keep in mind that the JSON responses you will be getting from the API map almost one-to-one to Python's dictionaries. Unfortunately, they can be very nested, so make sure you read up on indexing dictionaries in the documentation provided above."
   ]
  },
  {
   "cell_type": "code",
   "execution_count": null,
   "metadata": {
    "collapsed": true
   },
   "outputs": [],
   "source": [
    "# First, import the relevant modules\n",
    "import requests\n",
    "import collections"
   ]
  },
  {
   "cell_type": "code",
   "execution_count": null,
   "metadata": {
    "collapsed": true
   },
   "outputs": [],
   "source": [
    "# Now, call the Quandl API and pull out a small sample of the data (only one day) to get a glimpse\n",
    "# into the JSON structure that will be returned\n",
    "r = requests.get('https://www.quandl.com/api/v3/datasets/FSE/AFX_X/data.json?api_key=' + API_KEY + '&start_date=2014-01-02&end_date=2014-01-02')"
   ]
  },
  {
   "cell_type": "code",
   "execution_count": null,
   "metadata": {},
   "outputs": [],
   "source": [
    "# Inspect the JSON structure of the object you created, and take note of how nested it is,\n",
    "# as well as the overall structure\n",
    "r.json()"
   ]
  },
  {
   "cell_type": "markdown",
   "metadata": {},
   "source": [
    "These are your tasks for this mini project:\n",
    "\n",
    "1. Collect data from the Franfurt Stock Exchange, for the ticker AFX_X, for the whole year 2017 (keep in mind that the date format is YYYY-MM-DD).\n",
    "2. Convert the returned JSON object into a Python dictionary.\n",
    "3. Calculate what the highest and lowest opening prices were for the stock in this period.\n",
    "4. What was the largest change in any one day (based on High and Low price)?\n",
    "5. What was the largest change between any two days (based on Closing Price)?\n",
    "6. What was the average daily trading volume during this year?\n",
    "7. (Optional) What was the median trading volume during this year. (Note: you may need to implement your own function for calculating the median.)"
   ]
  },
  {
   "cell_type": "code",
   "execution_count": null,
   "metadata": {
    "collapsed": true
   },
   "outputs": [],
   "source": [
    "# Task 1 \n",
    "# Package and send the request, and catch the response\n",
    "r = requests.get('https://www.quandl.com/api/v3/datasets/FSE/AFX_X/data.json?api_key=' + API_KEY + '&start_date=2017-01-01&end_date=2017-12-31')"
   ]
  },
  {
   "cell_type": "code",
   "execution_count": null,
   "metadata": {
    "collapsed": true
   },
   "outputs": [],
   "source": [
    "# Task 2\n",
    "# convert the JSON object into a Python dictionary\n",
    "d = r.json()"
   ]
  },
  {
   "cell_type": "code",
   "execution_count": null,
   "metadata": {
    "collapsed": true
   },
   "outputs": [],
   "source": [
    "# Preparation for Tasks 3-7\n",
    "\n",
    "# create a nested list containing the data.\n",
    "# Each element is a list that contains data for one day.  \n",
    "data_lists = d['dataset_data']['data']\n",
    "\n",
    "# create a list of tuples containing the data.\n",
    "# Each tuple contains data for one field accross all days.\n",
    "data_tuples = list(zip(*data_lists))"
   ]
  },
  {
   "cell_type": "code",
   "execution_count": null,
   "metadata": {},
   "outputs": [],
   "source": [
    "# Task 3\n",
    "# isolate the tuple with daily opening prices\n",
    "opening_prices = data_tuples[1]\n",
    "\n",
    "# Use list comprehension to get rid of None values\n",
    "opening_prices_clean = [p for p in opening_prices if p is not None]\n",
    "\n",
    "# find highest and lowest opening prices\n",
    "max_opening_price = max(opening_prices_clean)\n",
    "min_opening_price = min(opening_prices_clean)\n",
    "\n",
    "print('Opening prices:  Highest = %4.2f    Lowest = %4.2f' \n",
    "      % (max_opening_price, min_opening_price))"
   ]
  },
  {
   "cell_type": "code",
   "execution_count": null,
   "metadata": {},
   "outputs": [],
   "source": [
    "# Task 4\n",
    "# Use list comprehension to calculate daily high - low\n",
    "ranges = [daily_data[2] - daily_data[3] for daily_data in data_lists]\n",
    "\n",
    "# calculate the largest daily value for high - low\n",
    "max_range = max(ranges)\n",
    "print('The largest change in any one day (high - low) = %4.2f' % max_range)"
   ]
  },
  {
   "cell_type": "code",
   "execution_count": null,
   "metadata": {},
   "outputs": [],
   "source": [
    "# Task 5\n",
    "# NOTE:  I interpret this problem as asking for the absolute value\n",
    "# of the largest change between any two consecutive data points,\n",
    "# even if the dates are more than 1 day apart.  \n",
    "\n",
    "# isolate the tuple of closing prices\n",
    "closing_prices = data_tuples[4]\n",
    "\n",
    "# find the absolute value differences between consecutive values\n",
    "diffs = [abs(closing_prices[i + 1] - closing_prices[i]) for i in range(0,len(closing_prices) - 2)]\n",
    "\n",
    "# find the largest change in closing price\n",
    "cp_max = max(diffs)\n",
    "print('The largest change between any two days = %4.2f' % cp_max)"
   ]
  },
  {
   "cell_type": "code",
   "execution_count": null,
   "metadata": {},
   "outputs": [],
   "source": [
    "# Task 6\n",
    "# isolate the tuple of daily traded volumes\n",
    "daily_traded_volumes = data_tuples[6]\n",
    "\n",
    "# find the average of the daily traded volumes\n",
    "avg_daily_traded_volume = sum(daily_traded_volumes) / len(daily_traded_volumes)\n",
    "print('The average daily traded volume = ' + str(avg_daily_traded_volume))"
   ]
  },
  {
   "cell_type": "code",
   "execution_count": null,
   "metadata": {},
   "outputs": [],
   "source": [
    "# Task 7\n",
    "# define a function that calculates the median from a list or tuple\n",
    "def find_median(in_iter):\n",
    "    \"\"\"find_median takes an iteratable such as a list or tuple of numbers as input \n",
    "    and returns the median value or None. This function assumes the input is \n",
    "    well behaved, e.g. non-empty list of numbers with no null values.\"\"\"\n",
    "    \n",
    "    # find the number of values and sort the values.\n",
    "    num_vals = len(in_iter)\n",
    "    sorted_list = sorted(in_iter)\n",
    "    \n",
    "    # find the median using different methods for odd or even amounts of values\n",
    "    if num_vals % 2 == 1:\n",
    "        index = int(num_vals // 2)\n",
    "        median = sorted_list[index]\n",
    "    elif num_vals % 2 == 0:\n",
    "        index_above = int(num_vals / 2)\n",
    "        index_below = index_above - 1\n",
    "        median = (sorted_list[index_below] + sorted_list[index_above]) / 2\n",
    "    # return None as a failsafe if num_vals is neither even nor odd. \n",
    "    else:\n",
    "        median = None\n",
    "    \n",
    "    # return the median value\n",
    "    return median\n",
    "\n",
    "# isolate the tuple of daily traded volumes\n",
    "daily_traded_volumes = data_tuples[6]\n",
    "\n",
    "# find the median of the daily traded volumes\n",
    "median_dtv = find_median(daily_traded_volumes)\n",
    "print('The median daily traded volume = ' + str(median_dtv))"
   ]
  }
 ],
 "metadata": {
  "anaconda-cloud": {},
  "kernelspec": {
   "display_name": "Python [conda env:py34]",
   "language": "python",
   "name": "conda-env-py34-py"
  },
  "language_info": {
   "codemirror_mode": {
    "name": "ipython",
    "version": 3
   },
   "file_extension": ".py",
   "mimetype": "text/x-python",
   "name": "python",
   "nbconvert_exporter": "python",
   "pygments_lexer": "ipython3",
   "version": "3.4.5"
  }
 },
 "nbformat": 4,
 "nbformat_minor": 2
}
