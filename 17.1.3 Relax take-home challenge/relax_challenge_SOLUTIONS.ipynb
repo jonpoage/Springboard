{
 "cells": [
  {
   "cell_type": "markdown",
   "metadata": {},
   "source": [
    "# Preparation"
   ]
  },
  {
   "cell_type": "markdown",
   "metadata": {},
   "source": [
    "## Setup"
   ]
  },
  {
   "cell_type": "code",
   "execution_count": 1,
   "metadata": {},
   "outputs": [],
   "source": [
    "import pandas as pd\n",
    "import numpy as np\n",
    "import matplotlib.pyplot as plt\n",
    "import datetime\n",
    "from sklearn.ensemble import RandomForestClassifier\n",
    "from sklearn.metrics import f1_score, precision_score, recall_score\n",
    "from sklearn.model_selection import train_test_split, StratifiedKFold\n",
    "from sklearn.preprocessing import OneHotEncoder\n",
    "from sklearn.compose import ColumnTransformer\n",
    "from sklearn.pipeline import Pipeline"
   ]
  },
  {
   "cell_type": "code",
   "execution_count": 2,
   "metadata": {},
   "outputs": [],
   "source": [
    "# configuration\n",
    "\n",
    "ROOTPATH = 'C:/Users/Jon/Springboard/Assignments/relax/relax_challenge/'\n",
    "\n",
    "%matplotlib inline"
   ]
  },
  {
   "cell_type": "code",
   "execution_count": 3,
   "metadata": {},
   "outputs": [
    {
     "name": "stdout",
     "output_type": "stream",
     "text": [
      "2019-05-12T12:06:54-07:00\n",
      "\n",
      "CPython 3.6.8\n",
      "IPython 7.4.0\n",
      "\n",
      "compiler   : MSC v.1916 64 bit (AMD64)\n",
      "system     : Windows\n",
      "release    : 10\n",
      "machine    : AMD64\n",
      "processor  : Intel64 Family 6 Model 158 Stepping 9, GenuineIntel\n",
      "CPU cores  : 4\n",
      "interpreter: 64bit\n"
     ]
    }
   ],
   "source": [
    "# watermark\n",
    "\n",
    "%load_ext watermark\n",
    "%watermark"
   ]
  },
  {
   "cell_type": "markdown",
   "metadata": {},
   "source": [
    "# Load Data"
   ]
  },
  {
   "cell_type": "code",
   "execution_count": 4,
   "metadata": {},
   "outputs": [],
   "source": [
    "# set data types for users data\n",
    "dtypes_users = {'name':str,\n",
    "                'email':str,\n",
    "                'creation_source':'category',\n",
    "                'opted_in_to_mailing_list':np.uint8,\n",
    "                'enabled_for_marketing_drip':np.uint8,\n",
    "                'org_id':'category'\n",
    "               }\n",
    "\n",
    "# load users data\n",
    "# NOTE: default encoding raised an error.  Using latin-1 encoding instead.\n",
    "df_users = pd.read_csv(ROOTPATH + 'takehome_users.csv',\n",
    "                       encoding='latin-1',\n",
    "                       parse_dates=['creation_time', 'last_session_creation_time'],\n",
    "                       dtype=dtypes_users)\n",
    "\n",
    "# convert UNIX time to datetime dtype\n",
    "df_users['last_session_creation_time'] = pd.to_datetime(df_users['last_session_creation_time'],\n",
    "                                                        unit='s')\n",
    "\n",
    "# set data types for user engagement data\n",
    "dtypes_user_engagement = {'visited':np.uint8}\n",
    "\n",
    "# load user engagement data\n",
    "df_user_engagement = pd.read_csv(ROOTPATH + 'takehome_user_engagement.csv',\n",
    "                                parse_dates=['time_stamp'],\n",
    "                                dtype=dtypes_user_engagement)"
   ]
  },
  {
   "cell_type": "code",
   "execution_count": 5,
   "metadata": {},
   "outputs": [
    {
     "name": "stdout",
     "output_type": "stream",
     "text": [
      "<class 'pandas.core.frame.DataFrame'>\n",
      "RangeIndex: 12000 entries, 0 to 11999\n",
      "Data columns (total 10 columns):\n",
      "object_id                     12000 non-null int64\n",
      "creation_time                 12000 non-null datetime64[ns]\n",
      "name                          12000 non-null object\n",
      "email                         12000 non-null object\n",
      "creation_source               12000 non-null category\n",
      "last_session_creation_time    8823 non-null datetime64[ns]\n",
      "opted_in_to_mailing_list      12000 non-null uint8\n",
      "enabled_for_marketing_drip    12000 non-null uint8\n",
      "org_id                        12000 non-null category\n",
      "invited_by_user_id            6417 non-null float64\n",
      "dtypes: category(2), datetime64[ns](2), float64(1), int64(1), object(2), uint8(2)\n",
      "memory usage: 644.6+ KB\n"
     ]
    }
   ],
   "source": [
    "# users info\n",
    "df_users.info()"
   ]
  },
  {
   "cell_type": "code",
   "execution_count": 6,
   "metadata": {},
   "outputs": [
    {
     "name": "stdout",
     "output_type": "stream",
     "text": [
      "<class 'pandas.core.frame.DataFrame'>\n",
      "RangeIndex: 207917 entries, 0 to 207916\n",
      "Data columns (total 3 columns):\n",
      "time_stamp    207917 non-null datetime64[ns]\n",
      "user_id       207917 non-null int64\n",
      "visited       207917 non-null uint8\n",
      "dtypes: datetime64[ns](1), int64(1), uint8(1)\n",
      "memory usage: 3.4 MB\n"
     ]
    }
   ],
   "source": [
    "# user engagement info\n",
    "df_user_engagement.info()"
   ]
  },
  {
   "cell_type": "code",
   "execution_count": 7,
   "metadata": {},
   "outputs": [
    {
     "data": {
      "text/plain": [
       "8823"
      ]
     },
     "execution_count": 7,
     "metadata": {},
     "output_type": "execute_result"
    }
   ],
   "source": [
    "# number of users in user engagement dataframe\n",
    "df_user_engagement.user_id.unique().size"
   ]
  },
  {
   "cell_type": "markdown",
   "metadata": {},
   "source": [
    "# Make Column for Adopted User Status"
   ]
  },
  {
   "cell_type": "code",
   "execution_count": 8,
   "metadata": {},
   "outputs": [],
   "source": [
    "# NOTE: this cell takes about 22 seconds to execute\n",
    "\n",
    "# number of logins per day for each user\n",
    "df_daily_login_count = df_user_engagement.groupby(['user_id', df_user_engagement['time_stamp'].dt.date])['visited'].sum().reset_index()\n",
    "\n",
    "# convert time_stamp column back to datetime format\n",
    "df_daily_login_count['time_stamp'] = pd.to_datetime(df_daily_login_count['time_stamp'])\n",
    "\n",
    "# 7-day rolling count -- number of unique days logged in for each user\n",
    "df_rolling = df_daily_login_count.groupby('user_id')['time_stamp', 'visited'].rolling('7D', on='time_stamp').count()\n",
    "\n",
    "# df with most unique days logged in over 7-day period for each user\n",
    "df_adopted_user = df_rolling.groupby('user_id')[['visited']].max()\n",
    "\n",
    "# add column for user adopted status \n",
    "df_adopted_user['adopted_user'] = (df_adopted_user.visited >= 3).astype('uint8')\n",
    "\n",
    "# merge adopted status to the user dataframe.  \n",
    "df = df_users.merge(df_adopted_user[['adopted_user']],\n",
    "                    how='left',  # some users never logged in after creating account\n",
    "                    left_on='object_id',\n",
    "                    right_index=True)\n",
    "\n",
    "# fill missing target values as 0\n",
    "df['adopted_user'] = df['adopted_user'].fillna(0)"
   ]
  },
  {
   "cell_type": "markdown",
   "metadata": {},
   "source": [
    "# Prepare Feature and Target Variable Dataframes"
   ]
  },
  {
   "cell_type": "code",
   "execution_count": 9,
   "metadata": {},
   "outputs": [
    {
     "name": "stdout",
     "output_type": "stream",
     "text": [
      "<class 'pandas.core.frame.DataFrame'>\n",
      "RangeIndex: 12000 entries, 0 to 11999\n",
      "Data columns (total 11 columns):\n",
      "object_id                     12000 non-null int64\n",
      "creation_time                 12000 non-null datetime64[ns]\n",
      "name                          12000 non-null object\n",
      "email                         12000 non-null object\n",
      "creation_source               12000 non-null category\n",
      "last_session_creation_time    8823 non-null datetime64[ns]\n",
      "opted_in_to_mailing_list      12000 non-null uint8\n",
      "enabled_for_marketing_drip    12000 non-null uint8\n",
      "org_id                        12000 non-null category\n",
      "invited_by_user_id            6417 non-null float64\n",
      "adopted_user                  12000 non-null float64\n",
      "dtypes: category(2), datetime64[ns](2), float64(2), int64(1), object(2), uint8(2)\n",
      "memory usage: 738.4+ KB\n"
     ]
    }
   ],
   "source": [
    "# info about merged dataframe\n",
    "df.info()"
   ]
  },
  {
   "cell_type": "markdown",
   "metadata": {},
   "source": [
    "## Notes on Treatment of DataFrame Variables"
   ]
  },
  {
   "cell_type": "markdown",
   "metadata": {},
   "source": [
    "<b>name</b> - This variable will not be used as a feature. A user's name is not expected to influence user adoption directly.\n",
    "\n",
    "<b>object_id</b> - This variable will not be used as a feature. The assigned user ID is not expected to influence user adoption directly. \n",
    "\n",
    "<b>email</b> - The domain of each email address will be extracted and stored in a new categorical column. The domains will be grouped into the following categories: GMAIL, YAHOO, JOURRAPIDE, GUSTR, CUVOX, HOTMAIL, and OTHER. The categorical variable of domain will be used as a feature\n",
    "\n",
    "<b>creation_source</b> - This categorical variable will be used as a feature.\n",
    "\n",
    "<b>creation_time</b> - The creation times will be transformed into UNIX timestamps.  This transformed creation time variable will be used as a feature.\n",
    "\n",
    "<b>last_session_creation_time</b> - The last session creation times will be used to create a new variable that contains the length of time between the user's account creation time and their last session creation time in seconds. This time duration variable will be used as a feature.  \n",
    "<b>NOTE:</b> Some users had no login activity after creating an account.  For each of these users, the time difference between account creation and last session creation was set to a value of -1. This value would not be suitable for regression, but it is acceptable for random forest classification.  The value of -1 will be qualitatively similar to the value 0, considering that users who most recently logged on at the time of their account creation could not be considered adopted.\n",
    "\n",
    "<b>opted_in_to_mailing_list</b> - This variable will be used as a feature.\n",
    "\n",
    "<b>enabled_for_marketing_drip</b> - This variable will be used as a feature.\n",
    "\n",
    "<b>org_id</b> - This categorical variable will be used as a feature.\n",
    "\n",
    "<b>invited_by_user_id</b> - This variable will not be used as a feature. The ID of the inviting user is not expected to influence user adoption. Furthermore, the invited vs not invited status is already indicated by the creation source variable. \n",
    "\n",
    "<b>adopted_user</b> - This variable will be used as the target variable."
   ]
  },
  {
   "cell_type": "code",
   "execution_count": 10,
   "metadata": {},
   "outputs": [],
   "source": [
    "# target columns\n",
    "target_cols = ['adopted_user']\n",
    "\n",
    "# target dataframe\n",
    "df_t = df[target_cols].copy()"
   ]
  },
  {
   "cell_type": "code",
   "execution_count": 11,
   "metadata": {},
   "outputs": [],
   "source": [
    "# create an intermediate dataframe to prepare features\n",
    "df_prep = df.copy()"
   ]
  },
  {
   "cell_type": "code",
   "execution_count": 12,
   "metadata": {},
   "outputs": [],
   "source": [
    "# datetime_columns\n",
    "dt_cols = ['creation_time',\n",
    "           'last_session_creation_time']\n",
    "\n",
    "# convert datetimes to UNIX timestamps\n",
    "for col in dt_cols:\n",
    "    df_prep[col + '_UNIX_ts'] = df_prep[col].view('int64') // 10**9\n",
    "    \n",
    "# add column for time difference\n",
    "df_prep['time_diff_from_creation_to_last_session'] = df_prep.last_session_creation_time_UNIX_ts - df_prep.creation_time_UNIX_ts\n",
    "\n",
    "# add sentinel value for users who never logged in after creating an account\n",
    "df_prep.loc[df_prep.last_session_creation_time.isna(), 'time_diff_from_creation_to_last_session'] = -1"
   ]
  },
  {
   "cell_type": "code",
   "execution_count": 13,
   "metadata": {},
   "outputs": [],
   "source": [
    "# string columns\n",
    "str_cols = ['name', 'email']\n",
    "\n",
    "# user defined domain names\n",
    "domain_col = 'domain'\n",
    "domain_cat_col = 'domain_category'\n",
    "\n",
    "# extract domain names\n",
    "df_prep[domain_col] = df_prep['email'].str.split('@').str.get(-1)\n",
    "\n",
    "dict_domain_map = {'gmail.com':'GMAIL',\n",
    "                   'yahoo.com':'YAHOO',\n",
    "                   'jourrapide.com':'JOURRAPIDE',\n",
    "                   'gustr.com':'GUSTR',\n",
    "                   'cuvox.de':'CUVOX',\n",
    "                   'hotmail.com':'HOTMAIL'}\n",
    "\n",
    "# function that maps domain to user defined categories\n",
    "def map_domain_to_category(str_domain, dict_domain_map):\n",
    "    \"\"\"Maps a domain to a domain category.\n",
    "    Inputs:\n",
    "        str_domain - (string) domain\n",
    "        dict_domain_map - (dict) mapping of domain to domain category\n",
    "    Returns the domain category as a string.\"\"\"\n",
    "    cat = dict_domain_map.get(str_domain, 'OTHER')\n",
    "    return cat\n",
    "\n",
    "# create column with user defined domain categories\n",
    "df_prep[domain_cat_col] = df_prep[domain_col].apply(map_domain_to_category, args=(dict_domain_map,))\n",
    "\n",
    "# convert to categorical data type\n",
    "df_prep[domain_cat_col] = df_prep[domain_cat_col].astype('category')"
   ]
  },
  {
   "cell_type": "code",
   "execution_count": 14,
   "metadata": {},
   "outputs": [],
   "source": [
    "# define columns to drop\n",
    "cols_to_drop = ['object_id',\n",
    "                'invited_by_user_id',\n",
    "                'last_session_creation_time_UNIX_ts',\n",
    "                domain_col] + dt_cols + str_cols + target_cols\n",
    "\n",
    "# define feature columns\n",
    "feature_cols = list(set(df_prep.columns) - set(cols_to_drop))\n",
    "\n",
    "# make features dataframe\n",
    "df_f = df_prep[feature_cols]"
   ]
  },
  {
   "cell_type": "markdown",
   "metadata": {},
   "source": [
    "# Analysis of Feature Importance"
   ]
  },
  {
   "cell_type": "code",
   "execution_count": 15,
   "metadata": {},
   "outputs": [],
   "source": [
    "# define feature and target variable arrays\n",
    "X = df_f.values\n",
    "y = df_t.values.ravel()"
   ]
  },
  {
   "cell_type": "markdown",
   "metadata": {},
   "source": [
    "## Mean Decrease in Accuracy"
   ]
  },
  {
   "cell_type": "code",
   "execution_count": 16,
   "metadata": {},
   "outputs": [],
   "source": [
    "# one hot encoder\n",
    "ohe = OneHotEncoder(sparse=False,\n",
    "                    dtype=np.uint16)\n",
    "\n",
    "# indices of categorical features\n",
    "i_cat_features = [i_is_cat\n",
    "                  for i_is_cat, is_cat in enumerate(df_f.dtypes == 'category')\n",
    "                  if is_cat]\n",
    "\n",
    "# column transformer\n",
    "ct = ColumnTransformer(transformers=[('one_hot_encoder', \n",
    "                                      ohe,\n",
    "                                      i_cat_features)],\n",
    "                       remainder='passthrough',\n",
    "                       sparse_threshold=0)\n",
    "\n",
    "# instantiate a random forest classifier\n",
    "rf = RandomForestClassifier(random_state=10,\n",
    "                            n_estimators=20)\n",
    "\n",
    "# make pipeline\n",
    "pipe = Pipeline(steps=[('one_hot_encoding', ct),\n",
    "                       ('random_forest', rf)])"
   ]
  },
  {
   "cell_type": "code",
   "execution_count": 17,
   "metadata": {},
   "outputs": [],
   "source": [
    "# number of folds for cross validation\n",
    "n_folds = 5\n",
    "\n",
    "# initialize array of accuracy differences (after - before permutation)\n",
    "accuracy_diffs = np.zeros((n_folds, X.shape[1]))\n",
    "\n",
    "# instantiate StratifiedKFold object\n",
    "skf = StratifiedKFold(n_splits=n_folds,\n",
    "                     shuffle=True,\n",
    "                     random_state=10)\n",
    "\n",
    "# cross validate the mean decrease in accuracy\n",
    "for i_fold, (i_train, i_test) in enumerate(skf.split(X, y)):\n",
    "    # get train and test sets for the iteration\n",
    "    X_train = X[i_train]\n",
    "    X_test = X[i_test]\n",
    "    y_train = y[i_train]\n",
    "    y_test = y[i_test]\n",
    "    \n",
    "    # fit the random forest on the train set\n",
    "    pipe.fit(X_train, y_train)\n",
    "    \n",
    "    # get the test accuracy score\n",
    "    accuracy = pipe.score(X_test, y_test)\n",
    "    \n",
    "    # iterate over features\n",
    "    for i_feature in range(X_test.shape[1]):\n",
    "        # permute the feature values\n",
    "        X_test_permuted = X_test.copy()\n",
    "        np.random.shuffle(X_test_permuted[:,i_feature])\n",
    "        \n",
    "        # find decrease in accuracy with permuted feature values\n",
    "        accuracy_permuted_f = pipe.score(X_test_permuted, y_test)\n",
    "        accuracy_diffs[i_fold, i_feature] = accuracy_permuted_f - accuracy\n",
    "\n",
    "# mean decrease in accuracy (mda) for each feature\n",
    "mda = -np.mean(accuracy_diffs,\n",
    "               axis=0)"
   ]
  },
  {
   "cell_type": "code",
   "execution_count": 18,
   "metadata": {},
   "outputs": [],
   "source": [
    "# feature importances based on mean decrease in accuracy\n",
    "df_mda = pd.DataFrame(index=df_f.columns,\n",
    "                      data=mda,\n",
    "                      columns=['Mean Decrease in Accuracy'])"
   ]
  },
  {
   "cell_type": "code",
   "execution_count": 19,
   "metadata": {},
   "outputs": [
    {
     "data": {
      "text/html": [
       "<div>\n",
       "<style scoped>\n",
       "    .dataframe tbody tr th:only-of-type {\n",
       "        vertical-align: middle;\n",
       "    }\n",
       "\n",
       "    .dataframe tbody tr th {\n",
       "        vertical-align: top;\n",
       "    }\n",
       "\n",
       "    .dataframe thead th {\n",
       "        text-align: right;\n",
       "    }\n",
       "</style>\n",
       "<table border=\"1\" class=\"dataframe\">\n",
       "  <thead>\n",
       "    <tr style=\"text-align: right;\">\n",
       "      <th></th>\n",
       "      <th>Mean Decrease in Accuracy</th>\n",
       "    </tr>\n",
       "  </thead>\n",
       "  <tbody>\n",
       "    <tr>\n",
       "      <th>time_diff_from_creation_to_last_session</th>\n",
       "      <td>1.886666e-01</td>\n",
       "    </tr>\n",
       "    <tr>\n",
       "      <th>creation_time_UNIX_ts</th>\n",
       "      <td>3.499445e-03</td>\n",
       "    </tr>\n",
       "    <tr>\n",
       "      <th>creation_source</th>\n",
       "      <td>4.166320e-04</td>\n",
       "    </tr>\n",
       "    <tr>\n",
       "      <th>opted_in_to_mailing_list</th>\n",
       "      <td>1.666667e-04</td>\n",
       "    </tr>\n",
       "    <tr>\n",
       "      <th>org_id</th>\n",
       "      <td>1.664931e-04</td>\n",
       "    </tr>\n",
       "    <tr>\n",
       "      <th>domain_category</th>\n",
       "      <td>-2.430411e-07</td>\n",
       "    </tr>\n",
       "    <tr>\n",
       "      <th>enabled_for_marketing_drip</th>\n",
       "      <td>-5.833334e-04</td>\n",
       "    </tr>\n",
       "  </tbody>\n",
       "</table>\n",
       "</div>"
      ],
      "text/plain": [
       "                                         Mean Decrease in Accuracy\n",
       "time_diff_from_creation_to_last_session               1.886666e-01\n",
       "creation_time_UNIX_ts                                 3.499445e-03\n",
       "creation_source                                       4.166320e-04\n",
       "opted_in_to_mailing_list                              1.666667e-04\n",
       "org_id                                                1.664931e-04\n",
       "domain_category                                      -2.430411e-07\n",
       "enabled_for_marketing_drip                           -5.833334e-04"
      ]
     },
     "execution_count": 19,
     "metadata": {},
     "output_type": "execute_result"
    }
   ],
   "source": [
    "# show mean decrease in accuracy values\n",
    "df_mda.sort_values(by='Mean Decrease in Accuracy',\n",
    "                   ascending=False)"
   ]
  },
  {
   "cell_type": "code",
   "execution_count": 20,
   "metadata": {},
   "outputs": [
    {
     "data": {
      "text/plain": [
       "Text(0.5, 0, 'Mean Decrease in Accuracy')"
      ]
     },
     "execution_count": 20,
     "metadata": {},
     "output_type": "execute_result"
    },
    {
     "data": {
      "image/png": "[encoded data removed]",
      "text/plain": [
       "<Figure size 432x288 with 1 Axes>"
      ]
     },
     "metadata": {
      "needs_background": "light"
     },
     "output_type": "display_data"
    }
   ],
   "source": [
    "# plot feature importances based on mean decrease in accuracy\n",
    "df_mda.sort_values(by='Mean Decrease in Accuracy').plot(kind='barh',\n",
    "                                                        legend=False)\n",
    "\n",
    "# set vertical grid lines\n",
    "ax = plt.gca()\n",
    "ax.xaxis.grid()\n",
    "\n",
    "# set title and labels\n",
    "plt.title('Feature Importances Based on Mean Decrease in Accuracy')\n",
    "plt.ylabel('Feature')\n",
    "plt.xlabel('Mean Decrease in Accuracy')"
   ]
  }
 ],
 "metadata": {
  "kernelspec": {
   "display_name": "Python (py36)",
   "language": "python",
   "name": "py36"
  },
  "language_info": {
   "codemirror_mode": {
    "name": "ipython",
    "version": 3
   },
   "file_extension": ".py",
   "mimetype": "text/x-python",
   "name": "python",
   "nbconvert_exporter": "python",
   "pygments_lexer": "ipython3",
   "version": "3.6.8"
  }
 },
 "nbformat": 4,
 "nbformat_minor": 2
}
